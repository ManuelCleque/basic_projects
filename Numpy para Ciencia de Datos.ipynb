{
 "cells": [
  {
   "cell_type": "markdown",
   "id": "f99a000d",
   "metadata": {},
   "source": [
    "# Numpy para Ciencia de Datos"
   ]
  },
  {
   "cell_type": "markdown",
   "id": "746430c8",
   "metadata": {},
   "source": [
    "Numpy es una biblioteca fundamental para la computación científica en Python"
   ]
  },
  {
   "cell_type": "markdown",
   "id": "4a96855f",
   "metadata": {},
   "source": [
    "**Listas**"
   ]
  },
  {
   "cell_type": "markdown",
   "id": "0bb30ba3",
   "metadata": {},
   "source": [
    "Es una colección de elementos que pueden contener elementos de múltiples tipos de datos."
   ]
  },
  {
   "cell_type": "markdown",
   "id": "ea43f5d0",
   "metadata": {},
   "source": [
    "**Array**"
   ]
  },
  {
   "cell_type": "markdown",
   "id": "7f974e26",
   "metadata": {},
   "source": [
    "Una matriz o array (arreglo) es un vector que contiene elementos homogéneos, es decir, elementos que pertenecen al mismo tipo de datos."
   ]
  },
  {
   "cell_type": "markdown",
   "id": "26889d04",
   "metadata": {},
   "source": [
    "***Creando nuestro primer array***"
   ]
  },
  {
   "cell_type": "markdown",
   "id": "82c7573b",
   "metadata": {},
   "source": [
    "Importamos la librería"
   ]
  },
  {
   "cell_type": "code",
   "execution_count": 6,
   "id": "aae3bd09",
   "metadata": {},
   "outputs": [],
   "source": [
    "import array as ar"
   ]
  },
  {
   "cell_type": "markdown",
   "id": "18936160",
   "metadata": {},
   "source": [
    "Creamos la variable matriz y le asignamos un array. Recuerde que primero debe indicar, entre comillas simples, el tipo de dato que se almacenará dentro del array. En este caso, los valores que almacenaremos serán enteros, por lo que colocaremos la letra \"i\". Para los otros tipos de datos se usan las siguientes letras:\n",
    "\n",
    "- Entero (int) : ' i '\n",
    "- Flotante (float): ' f '\n",
    "- Booleano (bool): ' b '\n",
    "- Cadena (string): ' s '"
   ]
  },
  {
   "cell_type": "code",
   "execution_count": 11,
   "id": "58a5a10b",
   "metadata": {},
   "outputs": [],
   "source": [
    "matriz = ar.array('i',[1,2,3,4,5])"
   ]
  },
  {
   "cell_type": "markdown",
   "id": "67e9287e",
   "metadata": {},
   "source": [
    "Ahora imprimimos nuestra primera matriz o array utilizando el comando \"print\""
   ]
  },
  {
   "cell_type": "code",
   "execution_count": 12,
   "id": "e11ad3df",
   "metadata": {},
   "outputs": [
    {
     "name": "stdout",
     "output_type": "stream",
     "text": [
      "array('i', [1, 2, 3, 4, 5])\n"
     ]
    }
   ],
   "source": [
    "print(matriz)"
   ]
  },
  {
   "cell_type": "markdown",
   "id": "bb9bc747",
   "metadata": {},
   "source": [
    "Observamos que el programa nos ha impreso todos los valores del array incluyendo el elemento que identifica el tipo de dato"
   ]
  },
  {
   "cell_type": "markdown",
   "id": "aa6831ab",
   "metadata": {},
   "source": [
    "Para poder imprimir solo los valores de la matriz, debemos utilizar un bucle. En este caso particular, utilizaremos el bucle for."
   ]
  },
  {
   "cell_type": "code",
   "execution_count": 13,
   "id": "976bd562",
   "metadata": {},
   "outputs": [
    {
     "name": "stdout",
     "output_type": "stream",
     "text": [
      "1\n",
      "2\n",
      "3\n",
      "4\n",
      "5\n"
     ]
    }
   ],
   "source": [
    "for ar in matriz:\n",
    "    print(ar)"
   ]
  },
  {
   "cell_type": "markdown",
   "id": "23363301",
   "metadata": {},
   "source": [
    "Ahora si sólo se imprimieron los datos numéricos de la matriz"
   ]
  },
  {
   "cell_type": "markdown",
   "id": "efc3de5b",
   "metadata": {},
   "source": [
    "Sin embargo, ahora crearemos el array utilizando la librería **Numpy**"
   ]
  },
  {
   "cell_type": "markdown",
   "id": "616972b8",
   "metadata": {},
   "source": [
    "En primer lugar, como casi siempre en Python, necesitamos importar la librería, en este caso, la librería numpy"
   ]
  },
  {
   "cell_type": "code",
   "execution_count": 3,
   "id": "1cb3385f",
   "metadata": {},
   "outputs": [],
   "source": [
    "import numpy as np"
   ]
  },
  {
   "cell_type": "markdown",
   "id": "95312fa0",
   "metadata": {},
   "source": [
    "Por convención, a la librería numpy se le denomina np una vez que es importada en el programa"
   ]
  },
  {
   "cell_type": "markdown",
   "id": "40ebd206",
   "metadata": {},
   "source": [
    "Abajo, crearemos la matriz mediante el comando **array** de la librería *numpy*"
   ]
  },
  {
   "cell_type": "code",
   "execution_count": 16,
   "id": "09b70905",
   "metadata": {},
   "outputs": [],
   "source": [
    "matriz = np.array([1,2,3,4,5])"
   ]
  },
  {
   "cell_type": "markdown",
   "id": "d9b27144",
   "metadata": {},
   "source": [
    "Si lo imprimimos..."
   ]
  },
  {
   "cell_type": "code",
   "execution_count": 17,
   "id": "7fef8f72",
   "metadata": {},
   "outputs": [
    {
     "name": "stdout",
     "output_type": "stream",
     "text": [
      "[1 2 3 4 5]\n"
     ]
    }
   ],
   "source": [
    "print(matriz)"
   ]
  },
  {
   "cell_type": "markdown",
   "id": "10b51816",
   "metadata": {},
   "source": [
    "Podemos observar que numpy nos da muestra de una mejor forma la matriz o array"
   ]
  },
  {
   "cell_type": "markdown",
   "id": "60b0ac65",
   "metadata": {},
   "source": [
    "\n",
    "\n",
    "\n",
    "\n",
    "**Diferencia entre una lista y un array**"
   ]
  },
  {
   "cell_type": "markdown",
   "id": "7b289136",
   "metadata": {},
   "source": [
    "Para ver la diferencia que hay entre una lista y un array. Vamos a utilizar el siguiente ejemplo.\n",
    "\n",
    "En primer lugar, vamos a escribir ambas estructuras"
   ]
  },
  {
   "cell_type": "code",
   "execution_count": 3,
   "id": "b0ea3e0c",
   "metadata": {},
   "outputs": [],
   "source": [
    "lista = [1,3,5]  #numeros impares en una lista\n",
    "matriz = np.array([2,4,6])  #numero pares en un array"
   ]
  },
  {
   "cell_type": "markdown",
   "id": "51b7728e",
   "metadata": {},
   "source": [
    "Imprimimos..."
   ]
  },
  {
   "cell_type": "code",
   "execution_count": 4,
   "id": "f6b7cf86",
   "metadata": {},
   "outputs": [
    {
     "name": "stdout",
     "output_type": "stream",
     "text": [
      "[1, 3, 5]\n",
      "[2 4 6]\n"
     ]
    }
   ],
   "source": [
    "print(lista)\n",
    "print(matriz)"
   ]
  },
  {
   "cell_type": "markdown",
   "id": "c2c9f3ae",
   "metadata": {},
   "source": [
    "Si queremos añadir un elemento a la lista, utilizaremos la función *append*"
   ]
  },
  {
   "cell_type": "code",
   "execution_count": 5,
   "id": "f1a36573",
   "metadata": {},
   "outputs": [],
   "source": [
    "lista.append(7)"
   ]
  },
  {
   "cell_type": "code",
   "execution_count": 6,
   "id": "2f00e556",
   "metadata": {},
   "outputs": [
    {
     "name": "stdout",
     "output_type": "stream",
     "text": [
      "[1, 3, 5, 7]\n"
     ]
    }
   ],
   "source": [
    "print(lista)"
   ]
  },
  {
   "cell_type": "markdown",
   "id": "9e4b464f",
   "metadata": {},
   "source": [
    "Observamos que se agregó el elemento sin problemas. Esto sucede debido a que la lista es una colección de datos, por lo que se le pueden añadir o sustraer elementos.\n",
    "Ahora, tratemos de hacer lo mismo con el *array*"
   ]
  },
  {
   "cell_type": "code",
   "execution_count": 7,
   "id": "78d72d03",
   "metadata": {},
   "outputs": [
    {
     "ename": "AttributeError",
     "evalue": "'numpy.ndarray' object has no attribute 'append'",
     "output_type": "error",
     "traceback": [
      "\u001b[1;31m---------------------------------------------------------------------------\u001b[0m",
      "\u001b[1;31mAttributeError\u001b[0m                            Traceback (most recent call last)",
      "\u001b[1;32m~\\AppData\\Local\\Temp\\ipykernel_15956\\1854578536.py\u001b[0m in \u001b[0;36m<module>\u001b[1;34m\u001b[0m\n\u001b[1;32m----> 1\u001b[1;33m \u001b[0mmatriz\u001b[0m\u001b[1;33m.\u001b[0m\u001b[0mappend\u001b[0m\u001b[1;33m(\u001b[0m\u001b[1;36m8\u001b[0m\u001b[1;33m)\u001b[0m\u001b[1;33m\u001b[0m\u001b[1;33m\u001b[0m\u001b[0m\n\u001b[0m",
      "\u001b[1;31mAttributeError\u001b[0m: 'numpy.ndarray' object has no attribute 'append'"
     ]
    }
   ],
   "source": [
    "matriz.append(8)"
   ]
  },
  {
   "cell_type": "markdown",
   "id": "18d3530e",
   "metadata": {},
   "source": [
    "Observamos que el programa nos arroja un error. Esto es debido a que en numpy, las matrices requieren otras funciones para poder trabajar con ellas."
   ]
  },
  {
   "cell_type": "markdown",
   "id": "698fb948",
   "metadata": {},
   "source": [
    "Si utilizamos el simbolo **\" + \"** para añadir un elemento a la matriz..."
   ]
  },
  {
   "cell_type": "code",
   "execution_count": 8,
   "id": "bcde3c29",
   "metadata": {},
   "outputs": [],
   "source": [
    "matriz = matriz + np.array([8])"
   ]
  },
  {
   "cell_type": "markdown",
   "id": "e284c6b7",
   "metadata": {},
   "source": [
    "Con ello esperamos haber agregado el número 8 a la secuencia de numeros que ya teníamos en la matriz. Imprimimos el resultado"
   ]
  },
  {
   "cell_type": "code",
   "execution_count": 9,
   "id": "94525a21",
   "metadata": {},
   "outputs": [
    {
     "name": "stdout",
     "output_type": "stream",
     "text": [
      "[10 12 14]\n"
     ]
    }
   ],
   "source": [
    "print(matriz)"
   ]
  },
  {
   "cell_type": "markdown",
   "id": "4fc69a5e",
   "metadata": {},
   "source": [
    "Observamos que el resultado no es el esperado. El valor del segundo elemento (8) se está sumando a cada valor individual de la matriz\n",
    "\n",
    "2 + 8 = 10\n",
    "\n",
    "4 + 8 = 12\n",
    "\n",
    "6 + 8 = 14"
   ]
  },
  {
   "cell_type": "markdown",
   "id": "8cea9f77",
   "metadata": {},
   "source": [
    "Cada uno de los valores de una matriz es independiente. Esto se debe a que cada elemento dentro de una matriz en numpy son ubicados en un espacio en la memoria del ordenador. Esto quiere decir que vamos a poder agregar elementos, eliminar elementos y modificar elementos de una manera sencilla"
   ]
  },
  {
   "cell_type": "markdown",
   "id": "b52e630d",
   "metadata": {},
   "source": [
    "**Listas:** no se puede manejar operaciones aritméticas directamente\n",
    "\n",
    "**Matrices:** se puede manejar operaciones aritméticas directamente"
   ]
  },
  {
   "cell_type": "markdown",
   "id": "abd5b85a",
   "metadata": {},
   "source": [
    "**Sumamos listas**"
   ]
  },
  {
   "cell_type": "code",
   "execution_count": 10,
   "id": "61ff37d4",
   "metadata": {},
   "outputs": [
    {
     "name": "stdout",
     "output_type": "stream",
     "text": [
      "[1, 2, 3, 4, 5, 6]\n"
     ]
    }
   ],
   "source": [
    "a = [1,2,3]\n",
    "b = [4,5,6]\n",
    "\n",
    "print(a+b)"
   ]
  },
  {
   "cell_type": "markdown",
   "id": "acb4a290",
   "metadata": {},
   "source": [
    "Se han combinado las listas *a* y *b*, no se han sumado"
   ]
  },
  {
   "cell_type": "markdown",
   "id": "5dc7f58d",
   "metadata": {},
   "source": [
    "**Sumamos matrices**"
   ]
  },
  {
   "cell_type": "code",
   "execution_count": 15,
   "id": "1deafc6f",
   "metadata": {},
   "outputs": [
    {
     "name": "stdout",
     "output_type": "stream",
     "text": [
      "[5 7 9]\n"
     ]
    }
   ],
   "source": [
    "a = np.array([1,2,3])\n",
    "b = np.array([4,5,6])\n",
    "\n",
    "print(a+b)"
   ]
  },
  {
   "cell_type": "markdown",
   "id": "7933d6de",
   "metadata": {},
   "source": [
    "El resultado nos muestra la suma de cada elemento de cada matriz\n",
    "\n",
    "1 + 4 = 5\n",
    "\n",
    "2 + 5 = 7\n",
    "\n",
    "3 + 6 = 9"
   ]
  },
  {
   "cell_type": "markdown",
   "id": "80dd4c80",
   "metadata": {},
   "source": [
    "**Multiplicando matrices**"
   ]
  },
  {
   "cell_type": "code",
   "execution_count": 16,
   "id": "e051b535",
   "metadata": {},
   "outputs": [
    {
     "name": "stdout",
     "output_type": "stream",
     "text": [
      "[ 4 10 18]\n"
     ]
    }
   ],
   "source": [
    "print(a*b)"
   ]
  },
  {
   "cell_type": "markdown",
   "id": "ef9bd946",
   "metadata": {},
   "source": [
    "Del mismo modo que con la suma, ha multiplicado cada elemento de manera independiente"
   ]
  },
  {
   "cell_type": "markdown",
   "id": "ec0b80b5",
   "metadata": {},
   "source": [
    "Pocos elementos --> utiliza lista\n",
    "Muchos elemento --> utiliza un array de numpy\n",
    "\n",
    "Esto con el fin de tener un mejor rendimiento de la memoria"
   ]
  },
  {
   "cell_type": "markdown",
   "id": "d0d85ab2",
   "metadata": {},
   "source": [
    "**Creamos una matriz en 2D**"
   ]
  },
  {
   "cell_type": "code",
   "execution_count": 14,
   "id": "3fb00191",
   "metadata": {},
   "outputs": [],
   "source": [
    "m2d = np.array([[1,2,3],[4,5,6]])"
   ]
  },
  {
   "cell_type": "code",
   "execution_count": 15,
   "id": "e0e002a5",
   "metadata": {},
   "outputs": [
    {
     "name": "stdout",
     "output_type": "stream",
     "text": [
      "[[1 2 3]\n",
      " [4 5 6]]\n"
     ]
    }
   ],
   "source": [
    "print(m2d)"
   ]
  },
  {
   "cell_type": "markdown",
   "id": "fe446bda",
   "metadata": {},
   "source": [
    "De esta manera se creó una matriz de 2 x 3. 2 filas y 3 columnas"
   ]
  },
  {
   "cell_type": "markdown",
   "id": "d79afd1d",
   "metadata": {},
   "source": [
    "***EJERCICIO***"
   ]
  },
  {
   "cell_type": "markdown",
   "id": "6bbb227c",
   "metadata": {},
   "source": [
    "Tomaremos una lista y desde ella, crearemos una matriz"
   ]
  },
  {
   "cell_type": "code",
   "execution_count": 17,
   "id": "829eb33f",
   "metadata": {},
   "outputs": [
    {
     "name": "stdout",
     "output_type": "stream",
     "text": [
      "[1 2 3 4 5 6]\n"
     ]
    }
   ],
   "source": [
    "lista = [1,2,3,4,5,6]\n",
    "matriz = np.array(lista)\n",
    "print(matriz)"
   ]
  },
  {
   "cell_type": "markdown",
   "id": "15fbdbfe",
   "metadata": {},
   "source": [
    "Se observa que la matriz ha tomado los valores de la lista"
   ]
  },
  {
   "cell_type": "markdown",
   "id": "2d825cb9",
   "metadata": {},
   "source": [
    "Funciona de la misma manera para matrices en 2D"
   ]
  },
  {
   "cell_type": "code",
   "execution_count": 19,
   "id": "1f64ae84",
   "metadata": {},
   "outputs": [
    {
     "name": "stdout",
     "output_type": "stream",
     "text": [
      "[[1 2 3]\n",
      " [4 5 6]\n",
      " [7 8 9]]\n"
     ]
    }
   ],
   "source": [
    "lista = [[1,2,3],[4,5,6],[7,8,9]]\n",
    "matriz = np.array(lista)\n",
    "print(matriz)"
   ]
  },
  {
   "cell_type": "markdown",
   "id": "085a23b9",
   "metadata": {},
   "source": [
    "Otra forma de crear una matriz es brindando el número de elementos y la forma de la matriz a través del uso de los comandos ***arange*** y ***reshape*** respectivamente"
   ]
  },
  {
   "cell_type": "code",
   "execution_count": 21,
   "id": "9bc00039",
   "metadata": {},
   "outputs": [
    {
     "name": "stdout",
     "output_type": "stream",
     "text": [
      "[[0 1 2 3 4]\n",
      " [5 6 7 8 9]]\n"
     ]
    }
   ],
   "source": [
    "matriz = np.arange(10).reshape(2,5)\n",
    "print(matriz)"
   ]
  },
  {
   "cell_type": "markdown",
   "id": "412f940c",
   "metadata": {},
   "source": [
    "Tomemos en cuenta que el producto de los valores de *reshape* debe ser igual al número de elementos de la matriz introducidos en la función *arange*. De otra manera nos dará error."
   ]
  },
  {
   "cell_type": "code",
   "execution_count": 22,
   "id": "c287c9b0",
   "metadata": {},
   "outputs": [
    {
     "ename": "ValueError",
     "evalue": "cannot reshape array of size 10 into shape (3,5)",
     "output_type": "error",
     "traceback": [
      "\u001b[1;31m---------------------------------------------------------------------------\u001b[0m",
      "\u001b[1;31mValueError\u001b[0m                                Traceback (most recent call last)",
      "\u001b[1;32m~\\AppData\\Local\\Temp\\ipykernel_15956\\552360987.py\u001b[0m in \u001b[0;36m<module>\u001b[1;34m\u001b[0m\n\u001b[1;32m----> 1\u001b[1;33m \u001b[0mmatriz\u001b[0m \u001b[1;33m=\u001b[0m \u001b[0mnp\u001b[0m\u001b[1;33m.\u001b[0m\u001b[0marange\u001b[0m\u001b[1;33m(\u001b[0m\u001b[1;36m10\u001b[0m\u001b[1;33m)\u001b[0m\u001b[1;33m.\u001b[0m\u001b[0mreshape\u001b[0m\u001b[1;33m(\u001b[0m\u001b[1;36m3\u001b[0m\u001b[1;33m,\u001b[0m\u001b[1;36m5\u001b[0m\u001b[1;33m)\u001b[0m\u001b[1;33m\u001b[0m\u001b[1;33m\u001b[0m\u001b[0m\n\u001b[0m",
      "\u001b[1;31mValueError\u001b[0m: cannot reshape array of size 10 into shape (3,5)"
     ]
    }
   ],
   "source": [
    "matriz = np.arange(10).reshape(3,5)"
   ]
  },
  {
   "cell_type": "markdown",
   "id": "deefbe6d",
   "metadata": {},
   "source": [
    "Para obtener el número de filas y columnas de una matriz utilizamos la función ***shape***"
   ]
  },
  {
   "cell_type": "code",
   "execution_count": 24,
   "id": "e38501af",
   "metadata": {},
   "outputs": [
    {
     "name": "stdout",
     "output_type": "stream",
     "text": [
      "(2, 5)\n"
     ]
    }
   ],
   "source": [
    "print(matriz.shape)"
   ]
  },
  {
   "cell_type": "markdown",
   "id": "977f8389",
   "metadata": {},
   "source": [
    "Para obtener el número de ejes de la matriz utilizamos ***ndim***"
   ]
  },
  {
   "cell_type": "code",
   "execution_count": 25,
   "id": "0d3fcf40",
   "metadata": {},
   "outputs": [
    {
     "name": "stdout",
     "output_type": "stream",
     "text": [
      "2\n"
     ]
    }
   ],
   "source": [
    "print(matriz.ndim)"
   ]
  },
  {
   "cell_type": "markdown",
   "id": "5995a523",
   "metadata": {},
   "source": [
    "***size*** nos brinda el número de elementos dentro de la matriz"
   ]
  },
  {
   "cell_type": "code",
   "execution_count": 26,
   "id": "78d5040d",
   "metadata": {},
   "outputs": [
    {
     "name": "stdout",
     "output_type": "stream",
     "text": [
      "10\n"
     ]
    }
   ],
   "source": [
    "print(matriz.size)"
   ]
  },
  {
   "cell_type": "markdown",
   "id": "d06beb5b",
   "metadata": {},
   "source": [
    "En muchos ejercicios de álgebra lineal, necesitarás utilizar matrices con ceros. Para ello utilizaremos el comando ***zeros***"
   ]
  },
  {
   "cell_type": "code",
   "execution_count": 28,
   "id": "14a55b13",
   "metadata": {},
   "outputs": [
    {
     "name": "stdout",
     "output_type": "stream",
     "text": [
      "[[0. 0. 0. 0.]\n",
      " [0. 0. 0. 0.]\n",
      " [0. 0. 0. 0.]]\n",
      "12\n"
     ]
    }
   ],
   "source": [
    "m = np.zeros((3,4))\n",
    "print(m)\n",
    "print(m.size)"
   ]
  },
  {
   "cell_type": "markdown",
   "id": "bab57f03",
   "metadata": {},
   "source": [
    "También tenemos la posibilidad de crear una matriz que tenga un valor inicial, un valor final y una cantidad de elementos.\n",
    "\n",
    "Por ejemplo crearemos una matriz con las siguientes especificaciones\n",
    "\n",
    "Valor inicial = 5\n",
    "\n",
    "Valor final = 20\n",
    "\n",
    "Cantidad de elementos = 4"
   ]
  },
  {
   "cell_type": "code",
   "execution_count": 32,
   "id": "c8a74c98",
   "metadata": {},
   "outputs": [
    {
     "name": "stdout",
     "output_type": "stream",
     "text": [
      "[ 5. 10. 15. 20.]\n"
     ]
    }
   ],
   "source": [
    "m = np.linspace(5,20,4)\n",
    "print(m)"
   ]
  },
  {
   "cell_type": "markdown",
   "id": "3414a035",
   "metadata": {},
   "source": [
    "**Crear matriz 3D**"
   ]
  },
  {
   "cell_type": "markdown",
   "id": "3cb7c4ee",
   "metadata": {},
   "source": [
    "Ahora crearemos una matriz con 3 dimensiones"
   ]
  },
  {
   "cell_type": "code",
   "execution_count": 37,
   "id": "82b8f578",
   "metadata": {},
   "outputs": [
    {
     "name": "stdout",
     "output_type": "stream",
     "text": [
      "[[[ 0  1  2]\n",
      "  [ 3  4  5]\n",
      "  [ 6  7  8]]\n",
      "\n",
      " [[ 9 10 11]\n",
      "  [12 13 14]\n",
      "  [15 16 17]]\n",
      "\n",
      " [[18 19 20]\n",
      "  [21 22 23]\n",
      "  [24 25 26]]]\n"
     ]
    }
   ],
   "source": [
    "m = np.arange(27).reshape(3,3,3)\n",
    "print(m)"
   ]
  },
  {
   "cell_type": "markdown",
   "id": "7bbe5b6e",
   "metadata": {},
   "source": [
    "¿Cómo  podemos hallar el elemento de una determinada posición de la matriz?\n",
    "\n",
    "Para realizar esto usamos el siguiente codigo"
   ]
  },
  {
   "cell_type": "code",
   "execution_count": 41,
   "id": "ff84d5f9",
   "metadata": {},
   "outputs": [
    {
     "name": "stdout",
     "output_type": "stream",
     "text": [
      "9\n",
      "[[ 0  1  2  3  4  5]\n",
      " [ 6  7  8  9 10 11]\n",
      " [12 13 14 15 16 17]\n",
      " [18 19 20 21 22 23]]\n"
     ]
    }
   ],
   "source": [
    "m = np.arange(24).reshape(4,6)\n",
    "print(m[1,3])\n",
    "print(m)"
   ]
  },
  {
   "cell_type": "markdown",
   "id": "139aba1b",
   "metadata": {},
   "source": [
    "Para odenar una matriz *unidimensional*, podemos utilizar la función **sort**"
   ]
  },
  {
   "cell_type": "code",
   "execution_count": 44,
   "id": "88113f50",
   "metadata": {},
   "outputs": [
    {
     "name": "stdout",
     "output_type": "stream",
     "text": [
      "[ 2 10 13 49 50 89]\n"
     ]
    }
   ],
   "source": [
    "m1 = np.array([50,49,2,10,89,13])\n",
    "m1 = np.sort(m1)\n",
    "print(m1)"
   ]
  },
  {
   "cell_type": "markdown",
   "id": "5095ba56",
   "metadata": {},
   "source": [
    "Para que cada elemento se eleve a una determinada potencia utilizaremos la función **power**"
   ]
  },
  {
   "cell_type": "code",
   "execution_count": 47,
   "id": "1e059912",
   "metadata": {},
   "outputs": [
    {
     "name": "stdout",
     "output_type": "stream",
     "text": [
      "[27 64]\n"
     ]
    }
   ],
   "source": [
    "m1 = np.array([3,4])\n",
    "print(np.power(m1,3))"
   ]
  },
  {
   "cell_type": "markdown",
   "id": "a332c96e",
   "metadata": {},
   "source": [
    "Podemos incluir una condición a la matriz con el siguiente código:"
   ]
  },
  {
   "cell_type": "code",
   "execution_count": 48,
   "id": "72c72607",
   "metadata": {},
   "outputs": [
    {
     "name": "stdout",
     "output_type": "stream",
     "text": [
      "[False  True  True  True False  True]\n"
     ]
    }
   ],
   "source": [
    "m1 = np.array([1,5,7,8,3,4])\n",
    "print(np.array(m1 >=4))"
   ]
  },
  {
   "cell_type": "markdown",
   "id": "f6f556b4",
   "metadata": {},
   "source": [
    "Para hallar el valor máximo y mínimo de una matriz:"
   ]
  },
  {
   "cell_type": "code",
   "execution_count": 52,
   "id": "876b0303",
   "metadata": {},
   "outputs": [
    {
     "name": "stdout",
     "output_type": "stream",
     "text": [
      "8\n",
      "1\n"
     ]
    }
   ],
   "source": [
    "m1 = np.array([1,5,7,8,3,4])\n",
    "\n",
    "print(np.array(m1.max()))\n",
    "print(np.array(m1.min()))"
   ]
  },
  {
   "cell_type": "markdown",
   "id": "b9d93716",
   "metadata": {},
   "source": [
    "Ahora sumaremos dos matrices de dos dimensiones"
   ]
  },
  {
   "cell_type": "code",
   "execution_count": 4,
   "id": "5e1a9e7d",
   "metadata": {},
   "outputs": [
    {
     "name": "stdout",
     "output_type": "stream",
     "text": [
      "[[ 3  4]\n",
      " [ 7 11]]\n"
     ]
    }
   ],
   "source": [
    "m1 = np.array([[1,2],[4,7]])\n",
    "m2 = np.array([[2,2],[3,4]])\n",
    "\n",
    "print(m1+m2)"
   ]
  },
  {
   "cell_type": "markdown",
   "id": "ac60b936",
   "metadata": {},
   "source": [
    "También podemos sumar un escalar a la matriz."
   ]
  },
  {
   "cell_type": "code",
   "execution_count": 7,
   "id": "f7743179",
   "metadata": {},
   "outputs": [
    {
     "name": "stdout",
     "output_type": "stream",
     "text": [
      "[[3 4]\n",
      " [6 9]]\n"
     ]
    }
   ],
   "source": [
    "print(m1 + 2)"
   ]
  },
  {
   "cell_type": "markdown",
   "id": "2457b80e",
   "metadata": {},
   "source": [
    "Observamos que los resultados varían a comparación del anterior. El número 2 se ha sumado a cada elemento de la matriz ***m1***."
   ]
  },
  {
   "cell_type": "markdown",
   "id": "7885ff5d",
   "metadata": {},
   "source": [
    "<h4>Algunas funciones</h4>"
   ]
  },
  {
   "cell_type": "markdown",
   "id": "b6e26708",
   "metadata": {},
   "source": [
    "Función para sumar **add**"
   ]
  },
  {
   "cell_type": "code",
   "execution_count": 8,
   "id": "70df6476",
   "metadata": {},
   "outputs": [
    {
     "name": "stdout",
     "output_type": "stream",
     "text": [
      "[[ 3  4]\n",
      " [ 7 11]]\n"
     ]
    }
   ],
   "source": [
    "print(np.add(m1,m2))"
   ]
  },
  {
   "cell_type": "markdown",
   "id": "0aaf9a0c",
   "metadata": {},
   "source": [
    "Función para restar **subtract**"
   ]
  },
  {
   "cell_type": "code",
   "execution_count": 10,
   "id": "fbc4f29b",
   "metadata": {},
   "outputs": [
    {
     "name": "stdout",
     "output_type": "stream",
     "text": [
      "[[-1  0]\n",
      " [ 1  3]]\n"
     ]
    }
   ],
   "source": [
    "print(np.subtract(m1,m2))"
   ]
  },
  {
   "cell_type": "markdown",
   "id": "6133fb5a",
   "metadata": {},
   "source": [
    "Función para multiplicar **multiply** *Ojo: multiplicación matricial*"
   ]
  },
  {
   "cell_type": "code",
   "execution_count": 11,
   "id": "bedd6040",
   "metadata": {},
   "outputs": [
    {
     "name": "stdout",
     "output_type": "stream",
     "text": [
      "[[ 2  4]\n",
      " [12 28]]\n"
     ]
    }
   ],
   "source": [
    "print(np.multiply(m1,m2))"
   ]
  },
  {
   "cell_type": "markdown",
   "id": "8a912c6c",
   "metadata": {},
   "source": [
    "Función para dividir **divide**"
   ]
  },
  {
   "cell_type": "code",
   "execution_count": 18,
   "id": "5c00e641",
   "metadata": {},
   "outputs": [
    {
     "name": "stdout",
     "output_type": "stream",
     "text": [
      "[[0.5        1.        ]\n",
      " [1.33333333 1.75      ]]\n"
     ]
    }
   ],
   "source": [
    "print(np.divide(m1,m2))"
   ]
  },
  {
   "cell_type": "markdown",
   "id": "8f2da773",
   "metadata": {},
   "source": [
    "Función para multiplicación escalar **dot**"
   ]
  },
  {
   "cell_type": "code",
   "execution_count": 13,
   "id": "7643ea99",
   "metadata": {},
   "outputs": [
    {
     "name": "stdout",
     "output_type": "stream",
     "text": [
      "[[ 8 10]\n",
      " [29 36]]\n"
     ]
    }
   ],
   "source": [
    "print(m1.dot(m2))"
   ]
  },
  {
   "cell_type": "markdown",
   "id": "6769c1c0",
   "metadata": {},
   "source": [
    "<h3>Números aleatorios</h3>"
   ]
  },
  {
   "cell_type": "markdown",
   "id": "d7ce39a2",
   "metadata": {},
   "source": [
    "<h4>Definición</h4>"
   ]
  },
  {
   "cell_type": "markdown",
   "id": "57515559",
   "metadata": {},
   "source": [
    "Los números aleatorios son aquellos que pueden ser generados a partir de fuentes de aleatoriedad, las cuales, generalmente, son de naturaleza física (dados, ruletas, mecanismos electrónicos o mecánicos), y son gobernados por las leyes del azar; estos exhiben verdadera aleatoriedad en la realización de experimentos."
   ]
  },
  {
   "cell_type": "markdown",
   "id": "83c31f96",
   "metadata": {},
   "source": [
    "***Ejemplos***"
   ]
  },
  {
   "cell_type": "markdown",
   "id": "6ca30520",
   "metadata": {},
   "source": [
    "Vamos a generar un número aleatorio utilizando la función *random* de la librería **numpy**"
   ]
  },
  {
   "cell_type": "code",
   "execution_count": 26,
   "id": "8bd9caf3",
   "metadata": {},
   "outputs": [
    {
     "name": "stdout",
     "output_type": "stream",
     "text": [
      "2\n"
     ]
    }
   ],
   "source": [
    "import numpy as np\n",
    "\n",
    "m = np.random.randint(10)\n",
    "\n",
    "print(m)"
   ]
  },
  {
   "cell_type": "markdown",
   "id": "80cecbb7",
   "metadata": {},
   "source": [
    "La función ***randint*** genera un número aleatorio de tipo entero no mayor al número que se le pasa como parámetro o argumento. En este caso específico, el número *10*."
   ]
  },
  {
   "cell_type": "markdown",
   "id": "bb9de340",
   "metadata": {},
   "source": [
    "Si queremos generar una matriz *unidimensional* con 6 elementos aleatorios, añadiremos el parámetro size"
   ]
  },
  {
   "cell_type": "code",
   "execution_count": 34,
   "id": "80ac3210",
   "metadata": {},
   "outputs": [
    {
     "name": "stdout",
     "output_type": "stream",
     "text": [
      "[13  4  2 18  3 15]\n"
     ]
    }
   ],
   "source": [
    "m = np.random.randint(20,size=(6))\n",
    "\n",
    "print(m)"
   ]
  },
  {
   "cell_type": "markdown",
   "id": "699750db",
   "metadata": {},
   "source": [
    "Ahora generaremos una matriz *bidimensional* con elementos aleatorios"
   ]
  },
  {
   "cell_type": "code",
   "execution_count": 38,
   "id": "347bed63",
   "metadata": {},
   "outputs": [
    {
     "name": "stdout",
     "output_type": "stream",
     "text": [
      "[[1 4]\n",
      " [3 3]]\n"
     ]
    }
   ],
   "source": [
    "m = np.random.randint(5,size=(2,2))\n",
    "\n",
    "print(m)"
   ]
  },
  {
   "cell_type": "markdown",
   "id": "eaea52a1",
   "metadata": {},
   "source": [
    "Para generar números decimales aleatorios utilizaremos la función **rand** "
   ]
  },
  {
   "cell_type": "code",
   "execution_count": 39,
   "id": "dfe83906",
   "metadata": {},
   "outputs": [
    {
     "name": "stdout",
     "output_type": "stream",
     "text": [
      "[0.85067259 0.09956193 0.74112671 0.66764191 0.91837104]\n"
     ]
    }
   ],
   "source": [
    "m = np.random.rand(5)\n",
    "\n",
    "print(m)"
   ]
  },
  {
   "cell_type": "markdown",
   "id": "0fbc84b3",
   "metadata": {},
   "source": [
    "Hemos generado 5 valores aleatorios decimales"
   ]
  },
  {
   "cell_type": "markdown",
   "id": "77be79ad",
   "metadata": {},
   "source": [
    "Generamos una matriz *3 x 3* con números decimales aleatorios"
   ]
  },
  {
   "cell_type": "code",
   "execution_count": 40,
   "id": "20f8f64a",
   "metadata": {},
   "outputs": [
    {
     "name": "stdout",
     "output_type": "stream",
     "text": [
      "[[0.90418799 0.64419077 0.35848127]\n",
      " [0.57492212 0.90427471 0.76991454]\n",
      " [0.62335791 0.59463717 0.71735755]]\n"
     ]
    }
   ],
   "source": [
    "m = np.random.rand(3,3)\n",
    "\n",
    "print(m)"
   ]
  },
  {
   "cell_type": "markdown",
   "id": "e82ff039",
   "metadata": {},
   "source": [
    "**Choice**"
   ]
  },
  {
   "cell_type": "markdown",
   "id": "08b1c452",
   "metadata": {},
   "source": [
    "Función que nos permite seleccionar un elemento aleatorio de una matriz"
   ]
  },
  {
   "cell_type": "code",
   "execution_count": 51,
   "id": "4e0a6d40",
   "metadata": {},
   "outputs": [
    {
     "name": "stdout",
     "output_type": "stream",
     "text": [
      "1\n"
     ]
    }
   ],
   "source": [
    "m = np.random.choice([3,4,2,1,3,3,7])\n",
    "\n",
    "print(m)"
   ]
  },
  {
   "cell_type": "markdown",
   "id": "e9f5ef33",
   "metadata": {},
   "source": [
    "Con esta función también podemos obtener una matriz con elementos seleccionados"
   ]
  },
  {
   "cell_type": "code",
   "execution_count": 53,
   "id": "098154ae",
   "metadata": {},
   "outputs": [
    {
     "name": "stdout",
     "output_type": "stream",
     "text": [
      "[[3 2 6 3]\n",
      " [3 6 3 3]]\n"
     ]
    }
   ],
   "source": [
    "m = np.random.choice([3,2,6,3],size=(2,4))\n",
    "\n",
    "print(m)"
   ]
  },
  {
   "cell_type": "markdown",
   "id": "30820322",
   "metadata": {},
   "source": [
    "<h3>Distribución de probabilidad</h3>"
   ]
  },
  {
   "cell_type": "markdown",
   "id": "0b93a339",
   "metadata": {},
   "source": [
    "<h4>Definición</h4>"
   ]
  },
  {
   "cell_type": "markdown",
   "id": "57630884",
   "metadata": {},
   "source": [
    "Es un modelo teórico que describe la forma en que varían los resultados de un experimento aleatorio, es decir, nos da todas las probabilidades de todos los posibles resultados que podrían obtenerse cuando se realiza un experimento aleatorio.\n",
    "\n",
    "Otra definición dice \"es un conjunto de números aleatorios que siguen una determinada función de densidad de probabilidad\""
   ]
  },
  {
   "cell_type": "markdown",
   "id": "3e6ea7be",
   "metadata": {},
   "source": [
    "El experimento aleatorio más usado porque explica de una manera sencilla la probabilidad es *el lanzamiento del dado*"
   ]
  },
  {
   "cell_type": "markdown",
   "id": "ab2460ea",
   "metadata": {},
   "source": [
    "***Ejemplo***"
   ]
  },
  {
   "cell_type": "markdown",
   "id": "5e56e51d",
   "metadata": {},
   "source": [
    "*¿Cuál es la probabilidad de sacar un número par?*"
   ]
  },
  {
   "cell_type": "markdown",
   "id": "b53d88bd",
   "metadata": {},
   "source": [
    "**espacio muestral** = {1, 2, 3, 4, 5, 6}"
   ]
  },
  {
   "cell_type": "markdown",
   "id": "1a3256bb",
   "metadata": {},
   "source": [
    "**espacio de evento (pares)** = {2,4,6}"
   ]
  },
  {
   "cell_type": "markdown",
   "id": "9f136bb8",
   "metadata": {},
   "source": [
    "**espacio de evento / espacio muestral** = 3 / 6 = 1 / 2 = 0.5"
   ]
  },
  {
   "cell_type": "markdown",
   "id": "dab7bfff",
   "metadata": {},
   "source": [
    "**0.5** de probabilidad que salga un número par\n",
    "\n",
    "**0.5** de probabilidad que salga un número impar"
   ]
  },
  {
   "cell_type": "markdown",
   "id": "add2095e",
   "metadata": {},
   "source": [
    "Crear matriz con exclusivamente números [3,5,6,9] siguiendo estas probabilidades [0.2,0.1,0.6,0.1]"
   ]
  },
  {
   "cell_type": "code",
   "execution_count": 68,
   "id": "bee837a4",
   "metadata": {},
   "outputs": [
    {
     "name": "stdout",
     "output_type": "stream",
     "text": [
      "[6 9 6 9 6 9 6 9 6 9 6 6 9 6 6 6 3 5 6 6 6 5 6 6 5 3 6 6 6 9 6 9 6 6 6 9 6\n",
      " 6 6 3 6 6 9 9 9 6 5 5 3 9 9 3 3 9 6 3 9 6 6 3 6 9 9 3 6 9 3 9 3 6 9 3 6 5\n",
      " 6 6 6 5 3 6 6 9 9 3 9 6 9 6 6 9 6 5 6 9 3 6 6 3 3 9]\n"
     ]
    }
   ],
   "source": [
    "m = np.random.choice([3,5,6,9], p = [0.2,0.1,0.4,0.3],size=[100])\n",
    "\n",
    "print(m)"
   ]
  },
  {
   "cell_type": "markdown",
   "id": "0e2ebf32",
   "metadata": {},
   "source": [
    "Los ejes (*o axis*) en numpy son representados con 0 y 1. **0** si el eje es vertical y **1** si es horizontal."
   ]
  },
  {
   "cell_type": "markdown",
   "id": "32f942fa",
   "metadata": {},
   "source": [
    "***Ejemplo***"
   ]
  },
  {
   "cell_type": "code",
   "execution_count": 70,
   "id": "64516d84",
   "metadata": {},
   "outputs": [
    {
     "name": "stdout",
     "output_type": "stream",
     "text": [
      "[[0 1 2]\n",
      " [4 5 2]]\n"
     ]
    }
   ],
   "source": [
    "#Creamos la matriz m\n",
    "m = np.array([[0,1,2],[4,5,2]])\n",
    "print(m)"
   ]
  },
  {
   "cell_type": "markdown",
   "id": "d9352e50",
   "metadata": {},
   "source": [
    "Ahora sumaremos los elementos de la matriz con el eje en **0** (vertical)"
   ]
  },
  {
   "cell_type": "code",
   "execution_count": 71,
   "id": "efc8e1c4",
   "metadata": {},
   "outputs": [
    {
     "name": "stdout",
     "output_type": "stream",
     "text": [
      "[4 6 4]\n"
     ]
    }
   ],
   "source": [
    "print(np.sum(m,axis=0))"
   ]
  },
  {
   "cell_type": "markdown",
   "id": "b2187fdb",
   "metadata": {},
   "source": [
    "Si queremos sumarlo con el eje horizontal **1**"
   ]
  },
  {
   "cell_type": "code",
   "execution_count": 72,
   "id": "e1254ae9",
   "metadata": {},
   "outputs": [
    {
     "name": "stdout",
     "output_type": "stream",
     "text": [
      "[ 3 11]\n"
     ]
    }
   ],
   "source": [
    "print(np.sum(m,axis=1))"
   ]
  },
  {
   "cell_type": "markdown",
   "id": "ac7c4b09",
   "metadata": {},
   "source": [
    "También podemos aplicarlo con la función **concatenar**"
   ]
  },
  {
   "cell_type": "code",
   "execution_count": 75,
   "id": "f6d0a19f",
   "metadata": {},
   "outputs": [
    {
     "name": "stdout",
     "output_type": "stream",
     "text": [
      "[[1 1 5]\n",
      " [8 9 4]]\n"
     ]
    }
   ],
   "source": [
    "#Creamos una nueva matriz m1\n",
    "m1 = np.array([[1,1,5],[8,9,4]])\n",
    "print(m1)"
   ]
  },
  {
   "cell_type": "code",
   "execution_count": 93,
   "id": "ad15e67e",
   "metadata": {},
   "outputs": [
    {
     "name": "stdout",
     "output_type": "stream",
     "text": [
      "[[1 1 5 2 2]\n",
      " [8 9 4 3 4]]\n"
     ]
    }
   ],
   "source": [
    "print(np.concatenate([m1,m2],axis=1))"
   ]
  },
  {
   "cell_type": "markdown",
   "id": "1d51df21",
   "metadata": {},
   "source": [
    "Tenemos la siguiente matriz"
   ]
  },
  {
   "cell_type": "code",
   "execution_count": 92,
   "id": "eb62a202",
   "metadata": {},
   "outputs": [
    {
     "name": "stdout",
     "output_type": "stream",
     "text": [
      "[1 4 7]\n"
     ]
    }
   ],
   "source": [
    "m = np.array([[1,2,3],[4,5,6],[7,8,9]])\n",
    "\n",
    "print(np.amin(m,1))"
   ]
  },
  {
   "cell_type": "markdown",
   "id": "95d4ad65",
   "metadata": {},
   "source": [
    "Utilizaremos las funciones **amax** y **amin** para hallar los valores maximos y minimos de la matriz"
   ]
  },
  {
   "cell_type": "code",
   "execution_count": 94,
   "id": "825978fd",
   "metadata": {},
   "outputs": [
    {
     "name": "stdout",
     "output_type": "stream",
     "text": [
      "1\n",
      "9\n"
     ]
    }
   ],
   "source": [
    "#Para hallar el valor mínimo\n",
    "print(np.amin(m))\n",
    "\n",
    "#Para hallar el valor máximo\n",
    "print(np.amax(m))"
   ]
  },
  {
   "cell_type": "markdown",
   "id": "d884f1f8",
   "metadata": {},
   "source": [
    "Si queremos hallar el valor minimo y maximo según los ejes *(1 horizontal y 0 vertical)*"
   ]
  },
  {
   "cell_type": "code",
   "execution_count": 95,
   "id": "bce55618",
   "metadata": {},
   "outputs": [
    {
     "name": "stdout",
     "output_type": "stream",
     "text": [
      "[1 4 7]\n",
      "[1 2 3]\n"
     ]
    }
   ],
   "source": [
    "print(np.amin(m,1))\n",
    "\n",
    "print(np.amin(m,0))"
   ]
  },
  {
   "cell_type": "markdown",
   "id": "5e988c9b",
   "metadata": {},
   "source": [
    "Para hallar el rango de una matriz, utilizaremos la función **ptp**\n",
    "\n",
    "*el rango de una matriz es la diferencia entre su valor máximo y mínimo*"
   ]
  },
  {
   "cell_type": "code",
   "execution_count": 96,
   "id": "82fa4fe7",
   "metadata": {},
   "outputs": [
    {
     "name": "stdout",
     "output_type": "stream",
     "text": [
      "8\n"
     ]
    }
   ],
   "source": [
    "print(np.ptp(m))"
   ]
  },
  {
   "cell_type": "markdown",
   "id": "4a95d693",
   "metadata": {},
   "source": [
    "De la misma forma puede utilizarse refiriéndonos a un eje específico"
   ]
  },
  {
   "cell_type": "code",
   "execution_count": 99,
   "id": "031eeeae",
   "metadata": {},
   "outputs": [
    {
     "name": "stdout",
     "output_type": "stream",
     "text": [
      "[6 6 6]\n",
      "[2 2 2]\n"
     ]
    }
   ],
   "source": [
    "print(np.ptp(m,axis=0))\n",
    "\n",
    "print(np.ptp(m,axis=1))"
   ]
  },
  {
   "cell_type": "markdown",
   "id": "1df320db",
   "metadata": {},
   "source": [
    "Podemos utilizar la función **median** para hallar la mediana de una matriz"
   ]
  },
  {
   "cell_type": "code",
   "execution_count": 100,
   "id": "6be7381a",
   "metadata": {},
   "outputs": [
    {
     "name": "stdout",
     "output_type": "stream",
     "text": [
      "5.0\n"
     ]
    }
   ],
   "source": [
    "print(np.median(m))"
   ]
  },
  {
   "cell_type": "markdown",
   "id": "c495ff8c",
   "metadata": {},
   "source": [
    "Del mismo modo, se puede acotar a un eje en específico"
   ]
  },
  {
   "cell_type": "code",
   "execution_count": 101,
   "id": "83cf448a",
   "metadata": {},
   "outputs": [
    {
     "name": "stdout",
     "output_type": "stream",
     "text": [
      "[2. 5. 8.]\n"
     ]
    }
   ],
   "source": [
    "print(np.median(m,1))"
   ]
  },
  {
   "cell_type": "code",
   "execution_count": 102,
   "id": "2cd08614",
   "metadata": {},
   "outputs": [
    {
     "name": "stdout",
     "output_type": "stream",
     "text": [
      "[4. 5. 6.]\n"
     ]
    }
   ],
   "source": [
    "print(np.median(m,0))"
   ]
  },
  {
   "cell_type": "markdown",
   "id": "9e06517c",
   "metadata": {},
   "source": [
    "Podemos utiliza la función **mean** para hallar la media de una matriz"
   ]
  },
  {
   "cell_type": "code",
   "execution_count": 104,
   "id": "8655e601",
   "metadata": {},
   "outputs": [
    {
     "name": "stdout",
     "output_type": "stream",
     "text": [
      "5.0\n",
      "[4. 5. 6.]\n",
      "[2. 5. 8.]\n"
     ]
    }
   ],
   "source": [
    "print(np.mean(m))\n",
    "\n",
    "print(np.mean(m,0))\n",
    "\n",
    "print(np.mean(m,1))"
   ]
  },
  {
   "cell_type": "markdown",
   "id": "3cffc6cf",
   "metadata": {},
   "source": [
    "Podemos hallar el promedio ponderado utilizando la función **average**"
   ]
  },
  {
   "cell_type": "code",
   "execution_count": 121,
   "id": "ddc87f85",
   "metadata": {},
   "outputs": [
    {
     "name": "stdout",
     "output_type": "stream",
     "text": [
      "2.957746478873239\n"
     ]
    }
   ],
   "source": [
    "print(np.average(np.array([2,3,4]),weights=[2,3.4,1.7]))"
   ]
  },
  {
   "cell_type": "markdown",
   "id": "d5cf6e85",
   "metadata": {},
   "source": [
    "También podemos obtener el promedio ponderado utilizando los ejes"
   ]
  },
  {
   "cell_type": "code",
   "execution_count": 122,
   "id": "3d8ac201",
   "metadata": {},
   "outputs": [
    {
     "name": "stdout",
     "output_type": "stream",
     "text": [
      "[1.62962963 3.         4.37037037]\n",
      "[2.66666667 2.83333333]\n"
     ]
    }
   ],
   "source": [
    "#VERTICAL AXIS=0\n",
    "print(np.average(np.array([[1,3,5],[2,3,4]]),weights=[2,3.4],axis=0))\n",
    "\n",
    "#HORIZONTAL AXIS=1\n",
    "print(np.average(np.array([[1,3,5],[2,3,4]]),weights=[2,3,1],axis=1))"
   ]
  },
  {
   "cell_type": "code",
   "execution_count": 123,
   "id": "f917e1ae",
   "metadata": {},
   "outputs": [
    {
     "name": "stdout",
     "output_type": "stream",
     "text": [
      "1.2909944487358056\n"
     ]
    }
   ],
   "source": [
    "print(np.std([1,2,3,3,5,4]))"
   ]
  }
 ],
 "metadata": {
  "kernelspec": {
   "display_name": "Python 3 (ipykernel)",
   "language": "python",
   "name": "python3"
  },
  "language_info": {
   "codemirror_mode": {
    "name": "ipython",
    "version": 3
   },
   "file_extension": ".py",
   "mimetype": "text/x-python",
   "name": "python",
   "nbconvert_exporter": "python",
   "pygments_lexer": "ipython3",
   "version": "3.9.13"
  }
 },
 "nbformat": 4,
 "nbformat_minor": 5
}
